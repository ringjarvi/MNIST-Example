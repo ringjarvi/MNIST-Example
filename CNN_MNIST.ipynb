{
 "cells": [
  {
   "cell_type": "code",
   "execution_count": 7,
   "metadata": {},
   "outputs": [
    {
     "name": "stdout",
     "output_type": "stream",
     "text": [
      "tensorflow                         2.0.0              \n",
      "tensorflow-estimator               2.0.1              \n"
     ]
    }
   ],
   "source": [
    "import tensorflow as tf\n",
    "from tensorflow import keras\n",
    "from keras.datasets import cifar10, mnist\n",
    "from tensorflow.keras import Sequential\n",
    "from tensorflow.keras.layers import Dense, Dropout, Flatten, Conv2D, MaxPool2D\n",
    "import numpy as np\n",
    "import scipy\n",
    "import matplotlib\n",
    "import matplotlib.pyplot as plt\n",
    "\n",
    "np.random.seed(0)\n",
    "! pip list | grep tensorflow"
   ]
  },
  {
   "cell_type": "code",
   "execution_count": null,
   "metadata": {},
   "outputs": [],
   "source": [
    "#suppress unwanted outputs\n",
    "from contextlib import contextmanager\n",
    "import sys, os\n",
    "\n",
    "@contextmanager\n",
    "def suppress_stdout():\n",
    "    with open(os.devnull, \"w\") as devnull:\n",
    "        old_stdout = sys.stdout\n",
    "        sys.stdout = devnull\n",
    "        try:  \n",
    "            yield\n",
    "        finally:\n",
    "            sys.stdout = old_stdout"
   ]
  },
  {
   "cell_type": "markdown",
   "metadata": {},
   "source": [
    "Load in MNIST Data"
   ]
  },
  {
   "cell_type": "code",
   "execution_count": 8,
   "metadata": {},
   "outputs": [
    {
     "name": "stdout",
     "output_type": "stream",
     "text": [
      "CPU times: user 220 ms, sys: 21.6 ms, total: 241 ms\n",
      "Wall time: 244 ms\n"
     ]
    }
   ],
   "source": [
    "%%time\n",
    "(x_train, y_train), (x_test, y_test) = mnist.load_data()"
   ]
  },
  {
   "cell_type": "code",
   "execution_count": 10,
   "metadata": {},
   "outputs": [
    {
     "name": "stdout",
     "output_type": "stream",
     "text": [
      "The mnist data was loaded with 60000 training samples and 10000 testing samples. Each sample is a 28 x 28 pixel image.\n"
     ]
    }
   ],
   "source": [
    "s1 = x_train.shape\n",
    "s2 = x_test.shape\n",
    "print(f\"The mnist data was loaded with {s1[0]} training samples and {s2[0]} testing samples. Each sample is a {s1[1]} x {s1[2]} pixel image.\")"
   ]
  },
  {
   "cell_type": "code",
   "execution_count": 12,
   "metadata": {},
   "outputs": [
    {
     "data": {
      "text/plain": [
       "<matplotlib.image.AxesImage at 0x7f7bc34eeda0>"
      ]
     },
     "execution_count": 12,
     "metadata": {},
     "output_type": "execute_result"
    },
    {
     "data": {
      "image/png": "[encoded data removed]",
      "text/plain": [
       "<Figure size 432x288 with 1 Axes>"
      ]
     },
     "metadata": {
      "needs_background": "light"
     },
     "output_type": "display_data"
    }
   ],
   "source": [
    "example = x_train[0]\n",
    "plt.imshow(example, cmap=\"gray\", vmin=0, vmax=255)"
   ]
  },
  {
   "cell_type": "code",
   "execution_count": 13,
   "metadata": {},
   "outputs": [],
   "source": [
    "def calculate_conv_shape(X, K, padding=0, stride=1):\n",
    "    \"\"\"Calculate the shape of the output of a convolution \n",
    "    \n",
    "    Args:\n",
    "        X (np.array): The input matrix\n",
    "        K (np.array): The filter matrix\n",
    "        padding (int, optional): Defaults to 0. The padding dimension\n",
    "        stride (int, optional): Defaults to 1. The stride of the convolution\n",
    "    \n",
    "    Returns:\n",
    "        tuple: The shape of the convolution output (height followed by width)\n",
    "    \"\"\"\n",
    "    # YOUR CODE HERE\n",
    "    xw=X.shape[1]\n",
    "    xh=X.shape[0]\n",
    "    kw=K.shape[1]\n",
    "    kh=K.shape[0]\n",
    "    yw=int(((xw-kw+2*padding)/stride)+1)\n",
    "    yh=int(((xh-kh+2*padding)/stride)+1)\n",
    "    return yh, yw"
   ]
  },
  {
   "cell_type": "markdown",
   "metadata": {},
   "source": [
    "Create simple CNN"
   ]
  },
  {
   "cell_type": "code",
   "execution_count": 15,
   "metadata": {},
   "outputs": [
    {
     "name": "stdout",
     "output_type": "stream",
     "text": [
      "Train on 60000 samples\n",
      "Epoch 1/5\n",
      "60000/60000 [==============================] - 4s 58us/sample - loss: 1.8983 - accuracy: 0.8456\n",
      "Epoch 2/5\n",
      "60000/60000 [==============================] - 3s 51us/sample - loss: 0.3821 - accuracy: 0.9101\n",
      "Epoch 3/5\n",
      "60000/60000 [==============================] - 3s 51us/sample - loss: 0.2557 - accuracy: 0.9327\n",
      "Epoch 4/5\n",
      "60000/60000 [==============================] - 3s 49us/sample - loss: 0.2139 - accuracy: 0.9426\n",
      "Epoch 5/5\n",
      "60000/60000 [==============================] - 3s 48us/sample - loss: 0.2010 - accuracy: 0.9457\n"
     ]
    },
    {
     "data": {
      "text/plain": [
       "<tensorflow.python.keras.callbacks.History at 0x7f7bc3cf7668>"
      ]
     },
     "execution_count": 15,
     "metadata": {},
     "output_type": "execute_result"
    }
   ],
   "source": [
    "simple_layers=[Flatten(),\n",
    "               Dense(200, activation='relu', input_shape=(784,)),\n",
    "               Dropout(.1),\n",
    "               Dense(200, activation='relu'),\n",
    "               Dropout(.05),\n",
    "               Dense(10, activation='softmax'),\n",
    "               ]\n",
    "simple_model = keras.Sequential(simple_layers)\n",
    "\n",
    "\n",
    "simple_model.compile(optimizer=\"adam\", loss='sparse_categorical_crossentropy', metrics=['accuracy'])\n",
    "simple_model.fit(x_train, y_train, epochs=5)"
   ]
  },
  {
   "cell_type": "code",
   "execution_count": 18,
   "metadata": {},
   "outputs": [
    {
     "name": "stdout",
     "output_type": "stream",
     "text": [
      "\n",
      "The simple model achieves an accuracy of 95.45% on the test data with only 5 epochs.\n"
     ]
    }
   ],
   "source": [
    "with suppress_stdout():\n",
    "    simple_scores = simple_model.evaluate(x_test, y_test)\n",
    "print(f\"\\nThe simple model achieves an accuracy of {simple_scores[1]*100:.2f}% on the test data with only 5 epochs.\")"
   ]
  },
  {
   "cell_type": "markdown",
   "metadata": {},
   "source": [
    "Now we'll create a CNN and see how it compares to our regular CNN. We'll use Conv2D for the convolutional layers and MaxPool2D for pooling.\n",
    "\n",
    "For the convolutional layers below, use a 3*3 convolutional filter and be sure to set the padding."
   ]
  },
  {
   "cell_type": "code",
   "execution_count": 19,
   "metadata": {},
   "outputs": [
    {
     "name": "stdout",
     "output_type": "stream",
     "text": [
      "Train on 60000 samples\n",
      "Epoch 1/3\n",
      "60000/60000 [==============================] - 41s 690us/sample - loss: 0.2386 - accuracy: 0.9461\n",
      "Epoch 2/3\n",
      "60000/60000 [==============================] - 42s 705us/sample - loss: 0.0749 - accuracy: 0.9781\n",
      "Epoch 3/3\n",
      "60000/60000 [==============================] - 44s 735us/sample - loss: 0.0717 - accuracy: 0.9799\n"
     ]
    },
    {
     "data": {
      "text/plain": [
       "<tensorflow.python.keras.callbacks.History at 0x7f7bc519c7f0>"
      ]
     },
     "execution_count": 19,
     "metadata": {},
     "output_type": "execute_result"
    }
   ],
   "source": [
    "cnn_layers=[Conv2D(32,kernel_size=(3,3), strides=(1,1), padding='same',activation='relu', input_shape=(28,28,1)),\n",
    "          MaxPool2D(pool_size=(2,2), strides=(2,2)),\n",
    "           Conv2D(64, kernel_size=(3,3), strides=(1,1), padding='same'),\n",
    "           MaxPool2D(pool_size=(2,2), strides=(2,2)),\n",
    "           Conv2D(128, kernel_size=(3,3), strides=(1,1), padding='same'),\n",
    "           MaxPool2D(pool_size=(2,2), strides=(2,2)),\n",
    "           Conv2D(128, kernel_size=(3,3), strides=(1,1), padding='same'),\n",
    "           MaxPool2D(pool_size=(2,2), strides=(2,2)),\n",
    "           Flatten(),\n",
    "           Dense(200, activation='relu'),\n",
    "           Dense(200, activation='relu'),\n",
    "           Dense(10, activation='softmax')]\n",
    "\n",
    "cnn_model=keras.Sequential(cnn_layers)\n",
    "\n",
    "cnn_model.compile(optimizer=\"adam\", loss='sparse_categorical_crossentropy', metrics=['accuracy'])\n",
    "cnn_model.fit(x_train.reshape(-1, 28, 28 ,1), y_train, epochs=3)"
   ]
  },
  {
   "cell_type": "code",
   "execution_count": 24,
   "metadata": {},
   "outputs": [
    {
     "name": "stdout",
     "output_type": "stream",
     "text": [
      "\n",
      "The CNN model achieves an accuracy of 98.25% on the test data.\n"
     ]
    }
   ],
   "source": [
    "with suppress_stdout():\n",
    "    cnn_scores = cnn_model.evaluate(x_test.reshape(-1, 28, 28 ,1), y_test)\n",
    "print(f\"\\nThe CNN model achieves an accuracy of {cnn_scores[1]*100:.2f}% on the test data.\")"
   ]
  },
  {
   "cell_type": "markdown",
   "metadata": {},
   "source": [
    "Testing using Dropout in the model."
   ]
  },
  {
   "cell_type": "code",
   "execution_count": 27,
   "metadata": {},
   "outputs": [
    {
     "name": "stdout",
     "output_type": "stream",
     "text": [
      "Train on 60000 samples\n",
      "Epoch 1/3\n",
      "60000/60000 [==============================] - 45s 745us/sample - loss: 0.7002 - accuracy: 0.7972\n",
      "Epoch 2/3\n",
      "60000/60000 [==============================] - 48s 797us/sample - loss: 0.2033 - accuracy: 0.9402\n",
      "Epoch 3/3\n",
      "60000/60000 [==============================] - 51s 850us/sample - loss: 0.1663 - accuracy: 0.9531\n"
     ]
    },
    {
     "data": {
      "text/plain": [
       "<tensorflow.python.keras.callbacks.History at 0x7f7bc738fa90>"
      ]
     },
     "execution_count": 27,
     "metadata": {},
     "output_type": "execute_result"
    }
   ],
   "source": [
    "cnn_dropout_layers=[Conv2D(32,kernel_size=(3,3), strides=(1,1), padding='same',activation='relu', input_shape=(28,28,1)),\n",
    "          MaxPool2D(pool_size=(2,2), strides=(2,2)),\n",
    "           Conv2D(64, kernel_size=(3,3), strides=(1,1), padding='same'),\n",
    "            Dropout(.5),\n",
    "           MaxPool2D(pool_size=(2,2), strides=(2,2)),\n",
    "            Dropout(.5),\n",
    "           Conv2D(128, kernel_size=(3,3), strides=(1,1), padding='same'),\n",
    "           MaxPool2D(pool_size=(2,2), strides=(2,2)),\n",
    "           Conv2D(128, kernel_size=(3,3), strides=(1,1), padding='same'),\n",
    "            Dropout(.5),\n",
    "           MaxPool2D(pool_size=(2,2), strides=(2,2)),\n",
    "           Flatten(),\n",
    "           Dense(200, activation='relu'),\n",
    "           Dense(200, activation='relu'),\n",
    "           Dense(10, activation='softmax')]\n",
    "\n",
    "cnn_model_dropout=keras.Sequential(cnn_dropout_layers)\n",
    "\n",
    "cnn_model_dropout.compile(optimizer=\"adam\", loss='sparse_categorical_crossentropy', metrics=['accuracy'])\n",
    "cnn_model_dropout.fit(x_train.reshape(-1, 28, 28 ,1), y_train, epochs=3)"
   ]
  },
  {
   "cell_type": "code",
   "execution_count": 28,
   "metadata": {},
   "outputs": [
    {
     "name": "stdout",
     "output_type": "stream",
     "text": [
      "\n",
      "The CNN model with .5 dropout achieves an accuracy of 96.00% on the test data.\n"
     ]
    }
   ],
   "source": [
    "with suppress_stdout():\n",
    "    cnn_scores = cnn_model_dropout.evaluate(x_test.reshape(-1, 28, 28 ,1), y_test)\n",
    "print(f\"\\nThe CNN model with .5 dropout achieves an accuracy of {cnn_scores[1]*100:.2f}% on the test data.\")"
   ]
  },
  {
   "cell_type": "code",
   "execution_count": 29,
   "metadata": {},
   "outputs": [
    {
     "name": "stdout",
     "output_type": "stream",
     "text": [
      "Train on 60000 samples\n",
      "Epoch 1/3\n",
      "60000/60000 [==============================] - 53s 879us/sample - loss: 0.3088 - accuracy: 0.9176\n",
      "Epoch 2/3\n",
      "60000/60000 [==============================] - 57s 952us/sample - loss: 0.1009 - accuracy: 0.9705\n",
      "Epoch 3/3\n",
      "60000/60000 [==============================] - 56s 933us/sample - loss: 0.0903 - accuracy: 0.9741\n"
     ]
    },
    {
     "data": {
      "text/plain": [
       "<tensorflow.python.keras.callbacks.History at 0x7f7bc64a8b38>"
      ]
     },
     "execution_count": 29,
     "metadata": {},
     "output_type": "execute_result"
    }
   ],
   "source": [
    "cnn_dropout_layers=[Conv2D(32,kernel_size=(3,3), strides=(1,1), padding='same',activation='relu', input_shape=(28,28,1)),\n",
    "          MaxPool2D(pool_size=(2,2), strides=(2,2)),\n",
    "           Conv2D(64, kernel_size=(3,3), strides=(1,1), padding='same'),\n",
    "            Dropout(.2),\n",
    "           MaxPool2D(pool_size=(2,2), strides=(2,2)),\n",
    "            Dropout(.2),\n",
    "           Conv2D(128, kernel_size=(3,3), strides=(1,1), padding='same'),\n",
    "           MaxPool2D(pool_size=(2,2), strides=(2,2)),\n",
    "           Conv2D(128, kernel_size=(3,3), strides=(1,1), padding='same'),\n",
    "            Dropout(.2),\n",
    "           MaxPool2D(pool_size=(2,2), strides=(2,2)),\n",
    "           Flatten(),\n",
    "           Dense(200, activation='relu'),\n",
    "           Dense(200, activation='relu'),\n",
    "           Dense(10, activation='softmax')]\n",
    "\n",
    "cnn_model_dropout=keras.Sequential(cnn_dropout_layers)\n",
    "\n",
    "cnn_model_dropout.compile(optimizer=\"adam\", loss='sparse_categorical_crossentropy', metrics=['accuracy'])\n",
    "cnn_model_dropout.fit(x_train.reshape(-1, 28, 28 ,1), y_train, epochs=3)"
   ]
  },
  {
   "cell_type": "code",
   "execution_count": 30,
   "metadata": {},
   "outputs": [
    {
     "name": "stdout",
     "output_type": "stream",
     "text": [
      "\n",
      "The CNN model with .2 dropout achieves an accuracy of 97.83% on the test data.\n"
     ]
    }
   ],
   "source": [
    "with suppress_stdout():\n",
    "    cnn_scores = cnn_model_dropout.evaluate(x_test.reshape(-1, 28, 28 ,1), y_test)\n",
    "print(f\"\\nThe CNN model with .2 dropout achieves an accuracy of {cnn_scores[1]*100:.2f}% on the test data.\")"
   ]
  },
  {
   "cell_type": "code",
   "execution_count": null,
   "metadata": {},
   "outputs": [],
   "source": []
  }
 ],
 "metadata": {
  "kernelspec": {
   "display_name": "Python 3",
   "language": "python",
   "name": "python3"
  },
  "language_info": {
   "codemirror_mode": {
    "name": "ipython",
    "version": 3
   },
   "file_extension": ".py",
   "mimetype": "text/x-python",
   "name": "python",
   "nbconvert_exporter": "python",
   "pygments_lexer": "ipython3",
   "version": "3.7.3"
  }
 },
 "nbformat": 4,
 "nbformat_minor": 4
}
