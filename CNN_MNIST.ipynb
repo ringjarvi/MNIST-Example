{
 "cells": [
  {
   "cell_type": "code",
   "execution_count": 47,
   "metadata": {},
   "outputs": [
    {
     "name": "stdout",
     "output_type": "stream",
     "text": [
      "tensorflow                         2.0.0              \n",
      "tensorflow-estimator               2.0.1              \n"
     ]
    }
   ],
   "source": [
    "import tensorflow as tf\n",
    "from tensorflow import keras\n",
    "from keras.datasets import cifar10, mnist\n",
    "from tensorflow.keras import Sequential\n",
    "from tensorflow.keras.layers import Dense, Dropout, Flatten, Conv2D, MaxPool2D\n",
    "import numpy as np\n",
    "import scipy\n",
    "import matplotlib\n",
    "import matplotlib.pyplot as plt\n",
    "# SKLearn for classification quality analysis\n",
    "from sklearn.metrics import classification_report, confusion_matrix\n",
    "from sklearn.utils.multiclass import unique_labels\n",
    "\n",
    "np.random.seed(0)\n",
    "! pip list | grep tensorflow"
   ]
  },
  {
   "cell_type": "code",
   "execution_count": 36,
   "metadata": {},
   "outputs": [],
   "source": [
    "#suppress unwanted outputs\n",
    "from contextlib import contextmanager\n",
    "import sys, os\n",
    "\n",
    "@contextmanager\n",
    "def suppress_stdout():\n",
    "    with open(os.devnull, \"w\") as devnull:\n",
    "        old_stdout = sys.stdout\n",
    "        sys.stdout = devnull\n",
    "        try:  \n",
    "            yield\n",
    "        finally:\n",
    "            sys.stdout = old_stdout"
   ]
  },
  {
   "cell_type": "markdown",
   "metadata": {},
   "source": [
    "Load in MNIST Data"
   ]
  },
  {
   "cell_type": "code",
   "execution_count": 37,
   "metadata": {},
   "outputs": [
    {
     "name": "stdout",
     "output_type": "stream",
     "text": [
      "CPU times: user 224 ms, sys: 22.4 ms, total: 247 ms\n",
      "Wall time: 249 ms\n"
     ]
    }
   ],
   "source": [
    "%%time\n",
    "(x_train, y_train), (x_test, y_test) = mnist.load_data()"
   ]
  },
  {
   "cell_type": "code",
   "execution_count": 38,
   "metadata": {},
   "outputs": [
    {
     "name": "stdout",
     "output_type": "stream",
     "text": [
      "The mnist data was loaded with 60000 training samples and 10000 testing samples. Each sample is a 28 x 28 pixel image.\n"
     ]
    }
   ],
   "source": [
    "s1 = x_train.shape\n",
    "s2 = x_test.shape\n",
    "print(f\"The mnist data was loaded with {s1[0]} training samples and {s2[0]} testing samples. Each sample is a {s1[1]} x {s1[2]} pixel image.\")"
   ]
  },
  {
   "cell_type": "code",
   "execution_count": 39,
   "metadata": {},
   "outputs": [
    {
     "data": {
      "text/plain": [
       "<matplotlib.image.AxesImage at 0x7f7bc9e805c0>"
      ]
     },
     "execution_count": 39,
     "metadata": {},
     "output_type": "execute_result"
    },
    {
     "data": {
      "image/png": "[encoded data removed]",
      "text/plain": [
       "<Figure size 432x288 with 1 Axes>"
      ]
     },
     "metadata": {
      "needs_background": "light"
     },
     "output_type": "display_data"
    }
   ],
   "source": [
    "example = x_train[0]\n",
    "plt.imshow(example, cmap=\"gray\", vmin=0, vmax=255)"
   ]
  },
  {
   "cell_type": "code",
   "execution_count": 40,
   "metadata": {},
   "outputs": [],
   "source": [
    "def calculate_conv_shape(X, K, padding=0, stride=1):\n",
    "    \"\"\"Calculate the shape of the output of a convolution \n",
    "    \n",
    "    Args:\n",
    "        X (np.array): The input matrix\n",
    "        K (np.array): The filter matrix\n",
    "        padding (int, optional): Defaults to 0. The padding dimension\n",
    "        stride (int, optional): Defaults to 1. The stride of the convolution\n",
    "    \n",
    "    Returns:\n",
    "        tuple: The shape of the convolution output (height followed by width)\n",
    "    \"\"\"\n",
    "    # YOUR CODE HERE\n",
    "    xw=X.shape[1]\n",
    "    xh=X.shape[0]\n",
    "    kw=K.shape[1]\n",
    "    kh=K.shape[0]\n",
    "    yw=int(((xw-kw+2*padding)/stride)+1)\n",
    "    yh=int(((xh-kh+2*padding)/stride)+1)\n",
    "    return yh, yw"
   ]
  },
  {
   "cell_type": "markdown",
   "metadata": {},
   "source": [
    "Create simple CNN"
   ]
  },
  {
   "cell_type": "code",
   "execution_count": 41,
   "metadata": {},
   "outputs": [
    {
     "name": "stdout",
     "output_type": "stream",
     "text": [
      "Train on 60000 samples\n",
      "Epoch 1/5\n",
      "60000/60000 [==============================] - 3s 58us/sample - loss: 1.8976 - accuracy: 0.8451\n",
      "Epoch 2/5\n",
      "60000/60000 [==============================] - 3s 51us/sample - loss: 0.4301 - accuracy: 0.9031\n",
      "Epoch 3/5\n",
      "60000/60000 [==============================] - 3s 50us/sample - loss: 0.2803 - accuracy: 0.9288\n",
      "Epoch 4/5\n",
      "60000/60000 [==============================] - 3s 53us/sample - loss: 0.2217 - accuracy: 0.9407\n",
      "Epoch 5/5\n",
      "60000/60000 [==============================] - 4s 70us/sample - loss: 0.1997 - accuracy: 0.9467\n"
     ]
    },
    {
     "data": {
      "text/plain": [
       "<tensorflow.python.keras.callbacks.History at 0x7f7bcaa93c18>"
      ]
     },
     "execution_count": 41,
     "metadata": {},
     "output_type": "execute_result"
    }
   ],
   "source": [
    "simple_layers=[Flatten(),\n",
    "               Dense(200, activation='relu', input_shape=(784,)),\n",
    "               Dropout(.1),\n",
    "               Dense(200, activation='relu'),\n",
    "               Dropout(.05),\n",
    "               Dense(10, activation='softmax'),\n",
    "               ]\n",
    "simple_model = keras.Sequential(simple_layers)\n",
    "\n",
    "\n",
    "simple_model.compile(optimizer=\"adam\", loss='sparse_categorical_crossentropy', metrics=['accuracy'])\n",
    "simple_model.fit(x_train, y_train, epochs=5)"
   ]
  },
  {
   "cell_type": "code",
   "execution_count": 42,
   "metadata": {},
   "outputs": [
    {
     "name": "stdout",
     "output_type": "stream",
     "text": [
      "\n",
      "The simple model achieves an accuracy of 96.11% on the test data with only 5 epochs.\n"
     ]
    }
   ],
   "source": [
    "with suppress_stdout():\n",
    "    simple_scores = simple_model.evaluate(x_test, y_test)\n",
    "print(f\"\\nThe simple model achieves an accuracy of {simple_scores[1]*100:.2f}% on the test data with only 5 epochs.\")"
   ]
  },
  {
   "cell_type": "markdown",
   "metadata": {},
   "source": [
    "Looking into prediction with the model with Confusion Matrix."
   ]
  },
  {
   "cell_type": "code",
   "execution_count": 49,
   "metadata": {},
   "outputs": [
    {
     "data": {
      "text/plain": [
       "(10000, 10)"
      ]
     },
     "execution_count": 49,
     "metadata": {},
     "output_type": "execute_result"
    }
   ],
   "source": [
    "predictions = simple_model.predict(x_test)\n",
    "# For each of the 10000 test images, you get 10 values (from the softmax 10 layer)\n",
    "predictions.shape"
   ]
  },
  {
   "cell_type": "code",
   "execution_count": 72,
   "metadata": {},
   "outputs": [],
   "source": [
    "class_names=list(range(1,11))\n",
    "class_names=['1','2','3','4','5','6','7','8','9','0']"
   ]
  },
  {
   "cell_type": "code",
   "execution_count": 75,
   "metadata": {},
   "outputs": [
    {
     "name": "stdout",
     "output_type": "stream",
     "text": [
      "Confusion Matrix - Predicted on X, Truth on Y\n",
      "[[ 965    0    3    2    0    1    2    3    4    0]\n",
      " [   0 1127    2    1    1    0    2    0    2    0]\n",
      " [   6    3  989   14    2    1    4    5    7    1]\n",
      " [   0    2    5  985    1    6    0    4    2    5]\n",
      " [   1    1    3    0  954    0   10    1    1   11]\n",
      " [   4    0    3   22    3  836    6    3   10    5]\n",
      " [  10    3    1    0    8    5  926    0    4    1]\n",
      " [   2    8   15    4    4    0    0  980    1   14]\n",
      " [   5    6    5   15   18    5    6    3  905    6]\n",
      " [   5    6    1   16   18    1    1   13    4  944]]\n",
      "Classification Report\n",
      "Precision_i = M_ii / Sum_j M_ji : Proportion of observations predicted i that actually are i\n",
      "Recall_i = M_ii / Sum_j M_ij : Proportion of observations that actually are i predicted i\n",
      "f-1_i = mean(Precision_i, Recall_i) : Equal weight average of precision and recall for class i\n",
      "support_i = Sum_j M_ij : Total observations in validation set that are truly class i\n",
      "              precision    recall  f1-score   support\n",
      "\n",
      "           1       0.97      0.98      0.98       980\n",
      "           2       0.97      0.99      0.98      1135\n",
      "           3       0.96      0.96      0.96      1032\n",
      "           4       0.93      0.98      0.95      1010\n",
      "           5       0.95      0.97      0.96       982\n",
      "           6       0.98      0.94      0.96       892\n",
      "           7       0.97      0.97      0.97       958\n",
      "           8       0.97      0.95      0.96      1028\n",
      "           9       0.96      0.93      0.95       974\n",
      "           0       0.96      0.94      0.95      1009\n",
      "\n",
      "    accuracy                           0.96     10000\n",
      "   macro avg       0.96      0.96      0.96     10000\n",
      "weighted avg       0.96      0.96      0.96     10000\n",
      "\n",
      "micro_avg_j = Global average by counting the total true positives, false negatives and false positives.\n",
      "macro_avg_j = Average across classes (ignores class size imbalance).\n",
      "weighted_avg_j = Calculate metrics for each label, and find their average weighted by support.\n"
     ]
    }
   ],
   "source": [
    "\n",
    "y_pred = np.argmax(predictions, axis=1)\n",
    "conf = confusion_matrix(y_test, y_pred) #args are (true labels, predicted labels)\n",
    "classif_rep = classification_report(y_test, y_pred, target_names=class_names) #args are (true labels, predicted labels, label strings)\n",
    "\n",
    "print('Confusion Matrix - Predicted on X, Truth on Y')\n",
    "\n",
    "print(conf)\n",
    "\n",
    "print('Classification Report')\n",
    "print('Precision_i = M_ii / Sum_j M_ji : Proportion of observations predicted i that actually are i')\n",
    "print('Recall_i = M_ii / Sum_j M_ij : Proportion of observations that actually are i predicted i')\n",
    "print('f-1_i = mean(Precision_i, Recall_i) : Equal weight average of precision and recall for class i')\n",
    "print('support_i = Sum_j M_ij : Total observations in validation set that are truly class i')\n",
    "\n",
    "print(classif_rep)\n",
    "\n",
    "print('micro_avg_j = Global average by counting the total true positives, false negatives and false positives.')\n",
    "print('macro_avg_j = Average across classes (ignores class size imbalance).')\n",
    "print('weighted_avg_j = Calculate metrics for each label, and find their average weighted by support.')"
   ]
  },
  {
   "cell_type": "code",
   "execution_count": 79,
   "metadata": {},
   "outputs": [],
   "source": [
    "## Fancier Confusion matrix plotting\n",
    "def plot_confusion_matrix(y_true, y_pred, classes,\n",
    "                          normalize=False,\n",
    "                          title=None,\n",
    "                          cmap=plt.cm.Blues,\n",
    "                          fig_size = (11,11)):\n",
    "    \"\"\"\n",
    "    This function prints and plots the confusion matrix.\n",
    "    Normalization can be applied by setting `normalize=True`.\n",
    "    \"\"\"\n",
    "    if not title:\n",
    "        if normalize:\n",
    "            title = 'Normalized confusion matrix'\n",
    "        else:\n",
    "            title = 'Confusion matrix, without normalization'\n",
    "\n",
    "    # Compute confusion matrix\n",
    "    cm = confusion_matrix(y_true, y_pred)\n",
    "\n",
    "    if normalize:\n",
    "        cm = cm.astype('float') / cm.sum(axis=1)[:, np.newaxis]\n",
    "        print(\"Normalized confusion matrix\")\n",
    "    else:\n",
    "        print('Confusion matrix, without normalization')\n",
    "\n",
    "    print(cm)\n",
    "\n",
    "    fig, ax = plt.subplots(figsize=fig_size)\n",
    "    im = ax.imshow(cm, interpolation='nearest', cmap=cmap)\n",
    "    ax.figure.colorbar(im, ax=ax)\n",
    "    # We want to show all ticks...\n",
    "    ax.set(xticks=np.arange(cm.shape[1]),\n",
    "           yticks=np.arange(cm.shape[0]),\n",
    "           # ... and label them with the respective list entries\n",
    "           xticklabels=classes, yticklabels=classes,\n",
    "           title=title,\n",
    "           ylabel='True label',\n",
    "           xlabel='Predicted label')\n",
    "\n",
    "    # Rotate the tick labels and set their alignment.\n",
    "    plt.setp(ax.get_xticklabels(), rotation=45, ha=\"right\",\n",
    "             rotation_mode=\"anchor\")\n",
    "\n",
    "    # Loop over data dimensions and create text annotations.\n",
    "    fmt = '.2f' if normalize else 'd'\n",
    "    thresh = cm.max() / 2.\n",
    "    for i in range(cm.shape[0]):\n",
    "        for j in range(cm.shape[1]):\n",
    "            ax.text(j, i, format(cm[i, j], fmt),\n",
    "                    ha=\"center\", va=\"center\",\n",
    "                    color=\"white\" if cm[i, j] > thresh else \"black\")\n",
    "    fig.tight_layout()\n",
    "    return ax"
   ]
  },
  {
   "cell_type": "code",
   "execution_count": 83,
   "metadata": {},
   "outputs": [
    {
     "name": "stdout",
     "output_type": "stream",
     "text": [
      "Confusion matrix, without normalization\n",
      "[[ 965    0    3    2    0    1    2    3    4    0]\n",
      " [   0 1127    2    1    1    0    2    0    2    0]\n",
      " [   6    3  989   14    2    1    4    5    7    1]\n",
      " [   0    2    5  985    1    6    0    4    2    5]\n",
      " [   1    1    3    0  954    0   10    1    1   11]\n",
      " [   4    0    3   22    3  836    6    3   10    5]\n",
      " [  10    3    1    0    8    5  926    0    4    1]\n",
      " [   2    8   15    4    4    0    0  980    1   14]\n",
      " [   5    6    5   15   18    5    6    3  905    6]\n",
      " [   5    6    1   16   18    1    1   13    4  944]]\n"
     ]
    },
    {
     "data": {
      "text/plain": [
       "<matplotlib.axes._subplots.AxesSubplot at 0x7f7bc09c02e8>"
      ]
     },
     "execution_count": 83,
     "metadata": {},
     "output_type": "execute_result"
    },
    {
     "data": {
      "image/png": "[encoded data removed]",
      "text/plain": [
       "<Figure size 792x792 with 2 Axes>"
      ]
     },
     "metadata": {
      "needs_background": "light"
     },
     "output_type": "display_data"
    }
   ],
   "source": [
    "plot_confusion_matrix(y_test, y_pred,class_names,fig_size = (11,11))"
   ]
  },
  {
   "cell_type": "markdown",
   "metadata": {},
   "source": [
    "Now we'll create a CNN and see how it compares to our regular CNN. We'll use Conv2D for the convolutional layers and MaxPool2D for pooling.\n",
    "\n",
    "For the convolutional layers below, use a 3*3 convolutional filter and be sure to set the padding."
   ]
  },
  {
   "cell_type": "code",
   "execution_count": 19,
   "metadata": {},
   "outputs": [
    {
     "name": "stdout",
     "output_type": "stream",
     "text": [
      "Train on 60000 samples\n",
      "Epoch 1/3\n",
      "60000/60000 [==============================] - 41s 690us/sample - loss: 0.2386 - accuracy: 0.9461\n",
      "Epoch 2/3\n",
      "60000/60000 [==============================] - 42s 705us/sample - loss: 0.0749 - accuracy: 0.9781\n",
      "Epoch 3/3\n",
      "60000/60000 [==============================] - 44s 735us/sample - loss: 0.0717 - accuracy: 0.9799\n"
     ]
    },
    {
     "data": {
      "text/plain": [
       "<tensorflow.python.keras.callbacks.History at 0x7f7bc519c7f0>"
      ]
     },
     "execution_count": 19,
     "metadata": {},
     "output_type": "execute_result"
    }
   ],
   "source": [
    "cnn_layers=[Conv2D(32,kernel_size=(3,3), strides=(1,1), padding='same',activation='relu', input_shape=(28,28,1)),\n",
    "          MaxPool2D(pool_size=(2,2), strides=(2,2)),\n",
    "           Conv2D(64, kernel_size=(3,3), strides=(1,1), padding='same'),\n",
    "           MaxPool2D(pool_size=(2,2), strides=(2,2)),\n",
    "           Conv2D(128, kernel_size=(3,3), strides=(1,1), padding='same'),\n",
    "           MaxPool2D(pool_size=(2,2), strides=(2,2)),\n",
    "           Conv2D(128, kernel_size=(3,3), strides=(1,1), padding='same'),\n",
    "           MaxPool2D(pool_size=(2,2), strides=(2,2)),\n",
    "           Flatten(),\n",
    "           Dense(200, activation='relu'),\n",
    "           Dense(200, activation='relu'),\n",
    "           Dense(10, activation='softmax')]\n",
    "\n",
    "cnn_model=keras.Sequential(cnn_layers)\n",
    "\n",
    "cnn_model.compile(optimizer=\"adam\", loss='sparse_categorical_crossentropy', metrics=['accuracy'])\n",
    "cnn_model.fit(x_train.reshape(-1, 28, 28 ,1), y_train, epochs=3)"
   ]
  },
  {
   "cell_type": "code",
   "execution_count": 24,
   "metadata": {},
   "outputs": [
    {
     "name": "stdout",
     "output_type": "stream",
     "text": [
      "\n",
      "The CNN model achieves an accuracy of 98.25% on the test data.\n"
     ]
    }
   ],
   "source": [
    "with suppress_stdout():\n",
    "    cnn_scores = cnn_model.evaluate(x_test.reshape(-1, 28, 28 ,1), y_test)\n",
    "print(f\"\\nThe CNN model achieves an accuracy of {cnn_scores[1]*100:.2f}% on the test data.\")"
   ]
  },
  {
   "cell_type": "markdown",
   "metadata": {},
   "source": [
    "Testing using Dropout in the model."
   ]
  },
  {
   "cell_type": "code",
   "execution_count": 27,
   "metadata": {},
   "outputs": [
    {
     "name": "stdout",
     "output_type": "stream",
     "text": [
      "Train on 60000 samples\n",
      "Epoch 1/3\n",
      "60000/60000 [==============================] - 45s 745us/sample - loss: 0.7002 - accuracy: 0.7972\n",
      "Epoch 2/3\n",
      "60000/60000 [==============================] - 48s 797us/sample - loss: 0.2033 - accuracy: 0.9402\n",
      "Epoch 3/3\n",
      "60000/60000 [==============================] - 51s 850us/sample - loss: 0.1663 - accuracy: 0.9531\n"
     ]
    },
    {
     "data": {
      "text/plain": [
       "<tensorflow.python.keras.callbacks.History at 0x7f7bc738fa90>"
      ]
     },
     "execution_count": 27,
     "metadata": {},
     "output_type": "execute_result"
    }
   ],
   "source": [
    "cnn_dropout_layers=[Conv2D(32,kernel_size=(3,3), strides=(1,1), padding='same',activation='relu', input_shape=(28,28,1)),\n",
    "          MaxPool2D(pool_size=(2,2), strides=(2,2)),\n",
    "           Conv2D(64, kernel_size=(3,3), strides=(1,1), padding='same'),\n",
    "            Dropout(.5),\n",
    "           MaxPool2D(pool_size=(2,2), strides=(2,2)),\n",
    "            Dropout(.5),\n",
    "           Conv2D(128, kernel_size=(3,3), strides=(1,1), padding='same'),\n",
    "           MaxPool2D(pool_size=(2,2), strides=(2,2)),\n",
    "           Conv2D(128, kernel_size=(3,3), strides=(1,1), padding='same'),\n",
    "            Dropout(.5),\n",
    "           MaxPool2D(pool_size=(2,2), strides=(2,2)),\n",
    "           Flatten(),\n",
    "           Dense(200, activation='relu'),\n",
    "           Dense(200, activation='relu'),\n",
    "           Dense(10, activation='softmax')]\n",
    "\n",
    "cnn_model_dropout=keras.Sequential(cnn_dropout_layers)\n",
    "\n",
    "cnn_model_dropout.compile(optimizer=\"adam\", loss='sparse_categorical_crossentropy', metrics=['accuracy'])\n",
    "cnn_model_dropout.fit(x_train.reshape(-1, 28, 28 ,1), y_train, epochs=3)"
   ]
  },
  {
   "cell_type": "code",
   "execution_count": 28,
   "metadata": {},
   "outputs": [
    {
     "name": "stdout",
     "output_type": "stream",
     "text": [
      "\n",
      "The CNN model with .5 dropout achieves an accuracy of 96.00% on the test data.\n"
     ]
    }
   ],
   "source": [
    "with suppress_stdout():\n",
    "    cnn_scores = cnn_model_dropout.evaluate(x_test.reshape(-1, 28, 28 ,1), y_test)\n",
    "print(f\"\\nThe CNN model with .5 dropout achieves an accuracy of {cnn_scores[1]*100:.2f}% on the test data.\")"
   ]
  },
  {
   "cell_type": "code",
   "execution_count": 29,
   "metadata": {},
   "outputs": [
    {
     "name": "stdout",
     "output_type": "stream",
     "text": [
      "Train on 60000 samples\n",
      "Epoch 1/3\n",
      "60000/60000 [==============================] - 53s 879us/sample - loss: 0.3088 - accuracy: 0.9176\n",
      "Epoch 2/3\n",
      "60000/60000 [==============================] - 57s 952us/sample - loss: 0.1009 - accuracy: 0.9705\n",
      "Epoch 3/3\n",
      "60000/60000 [==============================] - 56s 933us/sample - loss: 0.0903 - accuracy: 0.9741\n"
     ]
    },
    {
     "data": {
      "text/plain": [
       "<tensorflow.python.keras.callbacks.History at 0x7f7bc64a8b38>"
      ]
     },
     "execution_count": 29,
     "metadata": {},
     "output_type": "execute_result"
    }
   ],
   "source": [
    "cnn_dropout_layers=[Conv2D(32,kernel_size=(3,3), strides=(1,1), padding='same',activation='relu', input_shape=(28,28,1)),\n",
    "          MaxPool2D(pool_size=(2,2), strides=(2,2)),\n",
    "           Conv2D(64, kernel_size=(3,3), strides=(1,1), padding='same'),\n",
    "            Dropout(.2),\n",
    "           MaxPool2D(pool_size=(2,2), strides=(2,2)),\n",
    "            Dropout(.2),\n",
    "           Conv2D(128, kernel_size=(3,3), strides=(1,1), padding='same'),\n",
    "           MaxPool2D(pool_size=(2,2), strides=(2,2)),\n",
    "           Conv2D(128, kernel_size=(3,3), strides=(1,1), padding='same'),\n",
    "            Dropout(.2),\n",
    "           MaxPool2D(pool_size=(2,2), strides=(2,2)),\n",
    "           Flatten(),\n",
    "           Dense(200, activation='relu'),\n",
    "           Dense(200, activation='relu'),\n",
    "           Dense(10, activation='softmax')]\n",
    "\n",
    "cnn_model_dropout=keras.Sequential(cnn_dropout_layers)\n",
    "\n",
    "cnn_model_dropout.compile(optimizer=\"adam\", loss='sparse_categorical_crossentropy', metrics=['accuracy'])\n",
    "cnn_model_dropout.fit(x_train.reshape(-1, 28, 28 ,1), y_train, epochs=3)"
   ]
  },
  {
   "cell_type": "code",
   "execution_count": 30,
   "metadata": {},
   "outputs": [
    {
     "name": "stdout",
     "output_type": "stream",
     "text": [
      "\n",
      "The CNN model with .2 dropout achieves an accuracy of 97.83% on the test data.\n"
     ]
    }
   ],
   "source": [
    "with suppress_stdout():\n",
    "    cnn_scores = cnn_model_dropout.evaluate(x_test.reshape(-1, 28, 28 ,1), y_test)\n",
    "print(f\"\\nThe CNN model with .2 dropout achieves an accuracy of {cnn_scores[1]*100:.2f}% on the test data.\")"
   ]
  },
  {
   "cell_type": "code",
   "execution_count": 31,
   "metadata": {},
   "outputs": [],
   "source": []
  },
  {
   "cell_type": "code",
   "execution_count": null,
   "metadata": {},
   "outputs": [],
   "source": []
  },
  {
   "cell_type": "code",
   "execution_count": null,
   "metadata": {},
   "outputs": [],
   "source": []
  }
 ],
 "metadata": {
  "kernelspec": {
   "display_name": "Python 3",
   "language": "python",
   "name": "python3"
  },
  "language_info": {
   "codemirror_mode": {
    "name": "ipython",
    "version": 3
   },
   "file_extension": ".py",
   "mimetype": "text/x-python",
   "name": "python",
   "nbconvert_exporter": "python",
   "pygments_lexer": "ipython3",
   "version": "3.7.3"
  }
 },
 "nbformat": 4,
 "nbformat_minor": 4
}
